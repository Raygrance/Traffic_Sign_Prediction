DEBUG = True
DEBUG = False

import pandas as pd
import matplotlib.pyplot as plt
from sklearn.svm import SVC
from sklearn.model_selection import train_test_split
from sklearn.metrics import accuracy_score, classification_report, confusion_matrix, ConfusionMatrixDisplay

#### Import Training Data

# read train data
train_metadata = pd.read_csv('Data/train/train_metadata.csv', index_col="id")
train_color_hist = pd.read_csv('Data/train/Features/color_histogram.csv')
train_hog_pca = pd.read_csv('Data/train/Features/hog_pca.csv')
train_additional_features = pd.read_csv('Data/train/Features/additional_features.csv')

#### Split Train data into train/test for model testing purposes

# choose data to be used
train_data = [train_hog_pca, train_additional_features]
# drop duplicate image path column
train_data = [col.drop(columns='image_path') for col in train_data]
# make dataframe
train_data_df = pd.concat(train_data, axis=1)
# add index
train_data_df.index = train_metadata.index

if DEBUG:
    print(train_data_df)


# split train data into train and test, for development purposes 
X_train, X_test, y_train, y_test = train_test_split(
    train_data_df, train_metadata["ClassId"], 
    test_size=0.2,                        # Proportion of the data to include in the test split
    stratify=train_metadata["ClassId"]         # Stratifies data
)

if DEBUG:
    print(X_train.index[0])
    print(y_train.index[0])
    
    print(f"X_train: \n{X_train}")
    print(f"X_test: \n{X_test}")
    print(f"y_train: \n{y_train}")
    print(f"y_test: \n{y_test}")

#### Import Testing Data

# read test data
test_metadata = pd.read_csv('Data/test/test_metadata.csv', index_col="id")
test_color_hist = pd.read_csv('Data/test/Features/color_histogram.csv')
test_hog_pca = pd.read_csv('Data/test/Features/hog_pca.csv')
test_additional_features = pd.read_csv('Data/test/Features/additional_features.csv')

# choose data to be used
test_data = [test_hog_pca, test_additional_features]
# drop duplicate image path column
test_data = [col.drop(columns='image_path') for col in test_data]
# make dataframe
test_data_df = pd.concat(test_data, axis=1)
# add index
test_data_df.index = test_metadata.index

if DEBUG:
    print(test_data_df)

# ML Models

### SVM
# train an SVM model
SVMModel = SVC(kernel="linear")
SVMModel.fit(X_train, y_train)

# test model on test set, calculate accuracy
y_pred = SVMModel.predict(X_test)

accuracy = accuracy_score(y_test, y_pred)
print(f"Accuracy: {accuracy * 100:.2f}%")

if DEBUG:
    print(y_pred)
    print(y_test)

# display confusion matrix
# cm = confusion_matrix(y_test, y_pred)
# matrix = ConfusionMatrixDisplay(cm)
# matrix.plot()
# plt.gcf().set_size_inches(15, 15)
# plt.title('Confusion Matrix')
# plt.show()

SVMModelFinal = SVC(kernel="linear")
SVMModelFinal.fit(train_data_df, train_metadata["ClassId"])

predictions = SVMModelFinal.predict(test_data_df)

# Create DataFrame with index as 'id' and prediction as 'ClassId'
result_df = pd.DataFrame({'ClassId': predictions}, index=test_data_df.index)

# Write to CSV
result_df.to_csv("result.csv", index=True)

## Random Forest

from sklearn.ensemble import RandomForestClassifier, VotingClassifier
# trains random forest
RFModel = RandomForestClassifier(
    n_estimators=100,     # Number of trees
    max_depth=None       # Limit tree depth (optional)       # For reproducibility
)
RFModel.fit(X_train, y_train)

y_pred = RFModel.predict(X_test)

accuracy = accuracy_score(y_test, y_pred)
print(f"Accuracy: {accuracy * 100:.2f}%")


# display confusion matrix
cm = confusion_matrix(y_test, y_pred)
matrix = ConfusionMatrixDisplay(cm)
matrix.plot()
plt.gcf().set_size_inches(15, 15)
plt.title('Confusion Matrix')
plt.show()


rf = RandomForestClassifier(n_estimators=100, random_state=42)
svm = SVC(probability=True, random_state=42) 

voting_clf = VotingClassifier(
    estimators=[('rf', rf), ('svm', svm)], #('knn', knn)], 
    voting='soft'  # 'hard' for majority vote, 'soft' for probability averaging
)
# Train Voting Classifier
voting_clf.fit(X_train, y_train)


y_pred = voting_clf.predict(X_test)

accuracy = accuracy_score(y_test, y_pred)
print(f"Accuracy: {accuracy * 100:.2f}%")

# display confusion matrix
# cm = confusion_matrix(y_test, y_pred)
# matrix = ConfusionMatrixDisplay(cm)
# matrix.plot()
# plt.gcf().set_size_inches(15, 15)
# plt.title('Confusion Matrix')
# plt.show()


votingCLFFinal = SVC(kernel="linear")
votingCLFFinal.fit(train_data_df, train_metadata["ClassId"])

predictions = votingCLFFinal.predict(test_data_df)

# Create DataFrame with index as 'id' and prediction as 'ClassId'
result_df = pd.DataFrame({'ClassId': predictions}, index=test_data_df.index)

# Write to CSV
result_df.to_csv("result.csv", index=True)
